{
 "cells": [
  {
   "cell_type": "markdown",
   "id": "ad9108ec-3c62-41db-9f5b-9f94513e9375",
   "metadata": {},
   "source": [
    "# Cluster + client\n",
    "Here we get access tot the cluster and connect a client. Click on manual scale 2. "
   ]
  },
  {
   "cell_type": "code",
   "execution_count": 1,
   "id": "7279d7b7-2f6d-4365-923b-13ce0cf0fe05",
   "metadata": {
    "tags": []
   },
   "outputs": [
    {
     "data": {
      "application/vnd.jupyter.widget-view+json": {
       "model_id": "fbbd846e8b94486d9e8d7bb30aef9d1a",
       "version_major": 2,
       "version_minor": 0
      },
      "text/plain": [
       "VBox(children=(HTML(value='<h2>GatewayCluster</h2>'), HBox(children=(HTML(value='\\n<div>\\n<style scoped>\\n    …"
      ]
     },
     "metadata": {},
     "output_type": "display_data"
    }
   ],
   "source": [
    "import dask_gateway\n",
    "\n",
    "cluster = dask_gateway.GatewayCluster()\n",
    "client = cluster.get_client()\n",
    "cluster"
   ]
  },
  {
   "cell_type": "markdown",
   "id": "006e949d-94a0-443a-9405-a8d23b4d03b7",
   "metadata": {},
   "source": [
    "# Install dependencies in workers\n",
    "Install the r environment in workers and add two dependencies (python-r, r-python)."
   ]
  },
  {
   "cell_type": "code",
   "execution_count": 2,
   "id": "abb19181-07a9-4780-b13f-50afb56683fc",
   "metadata": {
    "tags": []
   },
   "outputs": [],
   "source": [
    "# conda is a bit slow, so we'll use mamba to install by hand\n",
    "from dask.distributed import CondaInstall\n",
    "\n",
    "plugin = CondaInstall(packages=[\"r-base\", \"rpy2\", \"r-reticulate\"])\n",
    "\n",
    "# this is a bit slow\n",
    "# client.register_worker_plugin(plugin)"
   ]
  },
  {
   "cell_type": "code",
   "execution_count": 3,
   "id": "b2f54b72-09c9-4cd1-ae74-9a5be0828c69",
   "metadata": {
    "tags": []
   },
   "outputs": [],
   "source": [
    "# install using a system command\n",
    "install_r_packages_cmd = \"mamba install -y r-base rpy2 r-reticulate\"\n",
    "\n",
    "def worker_setup(dask_worker):\n",
    "    # install R dependencies from github\n",
    "    import os\n",
    "\n",
    "    os.system(install_r_packages_cmd)\n",
    "\n",
    "\n",
    "use_worker_setup = True\n",
    "if use_worker_setup:\n",
    "    client.register_worker_callbacks(worker_setup)"
   ]
  },
  {
   "cell_type": "code",
   "execution_count": 4,
   "id": "2913c772-ed36-425e-aa8e-cf53176aaf4c",
   "metadata": {
    "tags": []
   },
   "outputs": [],
   "source": [
    "def test_r():\n",
    "    import rpy2.robjects as robjects\n",
    "    from rpy2.robjects import conversion, default_converter\n",
    "\n",
    "    # get pi from R\n",
    "    with conversion.localconverter(default_converter):\n",
    "        pi = robjects.r[\"pi\"][0]\n",
    "    return float(pi)\n",
    "\n",
    "\n",
    "def test_py():\n",
    "    import numpy as np\n",
    "\n",
    "    # get pi from numpy\n",
    "    pi = np.pi\n",
    "    return pi"
   ]
  },
  {
   "cell_type": "code",
   "execution_count": 5,
   "id": "55981078-6af9-4e30-981f-9d7b16997718",
   "metadata": {
    "tags": []
   },
   "outputs": [
    {
     "name": "stdout",
     "output_type": "stream",
     "text": [
      "Transaction\n",
      "\n",
      "  Prefix: /srv/conda/envs/notebook\n",
      "\n",
      "  Updating specs:\n",
      "\n",
      "   - r-base\n",
      "   - rpy2\n",
      "   - r-reticulate\n",
      "   - ca-certificates\n",
      "   - certifi\n",
      "   - openssl\n",
      "\n",
      "\n",
      "  Package                      Version  Build               Channel                   Size\n",
      "────────────────────────────────────────────────────────────────────────────────────────────\n",
      "  Install:\n",
      "────────────────────────────────────────────────────────────────────────────────────────────\n",
      "\n",
      "  + _r-mutex                     1.0.1  anacondar_1         conda-forge/noarch         4kB\n",
      "  + bwidget                     1.9.14  ha770c72_1          conda-forge/linux-64     122kB\n",
      "  + gfortran_impl_linux-64      13.1.0  hd511a9b_0          conda-forge/linux-64      16MB\n",
      "  + gsl                            2.7  he838d99_0          conda-forge/linux-64       3MB\n",
      "  + gxx_impl_linux-64           13.1.0  hc4be1a9_0          conda-forge/linux-64      13MB\n",
      "  + libstdcxx-devel_linux-64    13.1.0  he3cc6c4_0          conda-forge/linux-64       9MB\n",
      "  + make                           4.3  hd18ef5c_1          conda-forge/linux-64     519kB\n",
      "  + r-base                       4.3.1  h29c4799_3          conda-forge/linux-64      26MB\n",
      "  + r-here                       1.0.1  r43hc72bb7e_2       conda-forge/noarch        55kB\n",
      "  + r-jsonlite                   1.8.8  r43h57805ef_0       conda-forge/linux-64     634kB\n",
      "  + r-lattice                   0.22_5  r43h57805ef_0       conda-forge/linux-64       1MB\n",
      "  + r-matrix                     1.6_5  r43h316c678_0       conda-forge/linux-64       4MB\n",
      "  + r-png                        0.1_8  r43h81d01c5_1       conda-forge/linux-64      60kB\n",
      "  + r-rappdirs                   0.3.3  r43h57805ef_2       conda-forge/linux-64      52kB\n",
      "  + r-rcpp                      1.0.12  r43h7df8631_0       conda-for"
     ]
    },
    {
     "data": {
      "text/plain": [
       "0"
      ]
     },
     "execution_count": 5,
     "metadata": {},
     "output_type": "execute_result"
    }
   ],
   "source": [
    "import os\n",
    "os.system(install_r_packages_cmd)"
   ]
  },
  {
   "cell_type": "code",
   "execution_count": 6,
   "id": "5d9db0d1-41b0-4061-b289-96b9d71134dd",
   "metadata": {
    "tags": []
   },
   "outputs": [
    {
     "data": {
      "text/plain": [
       "3.141592653589793"
      ]
     },
     "execution_count": 6,
     "metadata": {},
     "output_type": "execute_result"
    }
   ],
   "source": [
    "test_r()"
   ]
  },
  {
   "cell_type": "code",
   "execution_count": 6,
   "id": "e177c076-1bad-4437-844a-75bb47e30176",
   "metadata": {
    "tags": []
   },
   "outputs": [],
   "source": [
    "future_r = client.submit(test_r)\n",
    "future_py = client.submit(test_py)"
   ]
  },
  {
   "cell_type": "code",
   "execution_count": 7,
   "id": "9779195e-f87f-4b38-a7a8-cececa282750",
   "metadata": {
    "tags": []
   },
   "outputs": [
    {
     "data": {
      "text/plain": [
       "{}"
      ]
     },
     "execution_count": 7,
     "metadata": {},
     "output_type": "execute_result"
    }
   ],
   "source": [
    "client.get_worker_logs()"
   ]
  },
  {
   "cell_type": "code",
   "execution_count": null,
   "id": "11154a32-a7f7-4584-bdfe-e2c6a915e060",
   "metadata": {},
   "outputs": [],
   "source": []
  }
 ],
 "metadata": {
  "kernelspec": {
   "display_name": "Python 3 (ipykernel)",
   "language": "python",
   "name": "python3"
  },
  "language_info": {
   "codemirror_mode": {
    "name": "ipython",
    "version": 3
   },
   "file_extension": ".py",
   "mimetype": "text/x-python",
   "name": "python",
   "nbconvert_exporter": "python",
   "pygments_lexer": "ipython3",
   "version": "3.11.4"
  }
 },
 "nbformat": 4,
 "nbformat_minor": 5
}
