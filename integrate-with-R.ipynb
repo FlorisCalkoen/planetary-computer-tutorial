{
 "cells": [
  {
   "cell_type": "markdown",
   "id": "ad9108ec-3c62-41db-9f5b-9f94513e9375",
   "metadata": {},
   "source": [
    "# Cluster + client\n",
    "Here we get access tot the cluster and connect a client. Click on manual scale 2. "
   ]
  },
  {
   "cell_type": "code",
   "execution_count": 1,
   "id": "7279d7b7-2f6d-4365-923b-13ce0cf0fe05",
   "metadata": {
    "tags": []
   },
   "outputs": [
    {
     "data": {
      "application/vnd.jupyter.widget-view+json": {
       "model_id": "1d56ba4e0cd842de8fa3a317268c0a00",
       "version_major": 2,
       "version_minor": 0
      },
      "text/plain": [
       "VBox(children=(HTML(value='<h2>GatewayCluster</h2>'), HBox(children=(HTML(value='\\n<div>\\n<style scoped>\\n    …"
      ]
     },
     "metadata": {},
     "output_type": "display_data"
    }
   ],
   "source": [
    "import dask_gateway\n",
    "\n",
    "cluster = dask_gateway.GatewayCluster()\n",
    "client = cluster.get_client()\n",
    "cluster"
   ]
  },
  {
   "cell_type": "markdown",
   "id": "006e949d-94a0-443a-9405-a8d23b4d03b7",
   "metadata": {},
   "source": [
    "# Install dependencies in workers\n",
    "Install the r environment in workers and add two dependencies (python-r, r-python)."
   ]
  },
  {
   "cell_type": "code",
   "execution_count": 2,
   "id": "abb19181-07a9-4780-b13f-50afb56683fc",
   "metadata": {
    "tags": []
   },
   "outputs": [],
   "source": [
    "# conda is a bit slow, so we'll use mamba to install by hand\n",
    "from dask.distributed import CondaInstall\n",
    "\n",
    "plugin = CondaInstall(packages=[\"r-base\", \"rpy2\", \"r-reticulate\"])\n",
    "\n",
    "# this is a bit slow\n",
    "# client.register_worker_plugin(plugin)"
   ]
  },
  {
   "cell_type": "code",
   "execution_count": 3,
   "id": "b2f54b72-09c9-4cd1-ae74-9a5be0828c69",
   "metadata": {
    "tags": []
   },
   "outputs": [],
   "source": [
    "# install using a system command\n",
    "def worker_setup(dask_worker):\n",
    "    # install R dependencies from github\n",
    "    import os\n",
    "\n",
    "    os.system(\"mamba install -y r-base rpy2 r-reticulate\")\n",
    "\n",
    "\n",
    "use_worker_setup = True\n",
    "if use_worker_setup:\n",
    "    client.register_worker_callbacks(worker_setup)"
   ]
  },
  {
   "cell_type": "code",
   "execution_count": 4,
   "id": "2913c772-ed36-425e-aa8e-cf53176aaf4c",
   "metadata": {
    "tags": []
   },
   "outputs": [],
   "source": [
    "def test_r():\n",
    "    import rpy2.robjects as robjects\n",
    "    from rpy2.robjects import conversion, default_converter\n",
    "\n",
    "    # get pi from R\n",
    "    with conversion.localconverter(default_converter):\n",
    "        pi = robjects.r[\"pi\"][0]\n",
    "    return float(pi)\n",
    "\n",
    "\n",
    "def test_py():\n",
    "    import numpy as np\n",
    "\n",
    "    # get pi from numpy\n",
    "    pi = np.pi\n",
    "    return pi"
   ]
  },
  {
   "cell_type": "code",
   "execution_count": 5,
   "id": "5d9db0d1-41b0-4061-b289-96b9d71134dd",
   "metadata": {
    "tags": []
   },
   "outputs": [
    {
     "ename": "ModuleNotFoundError",
     "evalue": "No module named 'rpy2'",
     "output_type": "error",
     "traceback": [
      "\u001b[0;31m---------------------------------------------------------------------------\u001b[0m",
      "\u001b[0;31mModuleNotFoundError\u001b[0m                       Traceback (most recent call last)",
      "Cell \u001b[0;32mIn[5], line 1\u001b[0m\n\u001b[0;32m----> 1\u001b[0m \u001b[43mtest_r\u001b[49m\u001b[43m(\u001b[49m\u001b[43m)\u001b[49m\n",
      "Cell \u001b[0;32mIn[4], line 2\u001b[0m, in \u001b[0;36mtest_r\u001b[0;34m()\u001b[0m\n\u001b[1;32m      1\u001b[0m \u001b[38;5;28;01mdef\u001b[39;00m \u001b[38;5;21mtest_r\u001b[39m():\n\u001b[0;32m----> 2\u001b[0m     \u001b[38;5;28;01mimport\u001b[39;00m \u001b[38;5;21;01mrpy2\u001b[39;00m\u001b[38;5;21;01m.\u001b[39;00m\u001b[38;5;21;01mrobjects\u001b[39;00m \u001b[38;5;28;01mas\u001b[39;00m \u001b[38;5;21;01mrobjects\u001b[39;00m\n\u001b[1;32m      3\u001b[0m     \u001b[38;5;28;01mfrom\u001b[39;00m \u001b[38;5;21;01mrpy2\u001b[39;00m\u001b[38;5;21;01m.\u001b[39;00m\u001b[38;5;21;01mrobjects\u001b[39;00m \u001b[38;5;28;01mimport\u001b[39;00m conversion, default_converter\n\u001b[1;32m      5\u001b[0m     \u001b[38;5;66;03m# get pi from R\u001b[39;00m\n",
      "\u001b[0;31mModuleNotFoundError\u001b[0m: No module named 'rpy2'"
     ]
    }
   ],
   "source": [
    "test_r()"
   ]
  },
  {
   "cell_type": "code",
   "execution_count": 6,
   "id": "e177c076-1bad-4437-844a-75bb47e30176",
   "metadata": {
    "tags": []
   },
   "outputs": [],
   "source": [
    "future_r = client.submit(test_r)\n",
    "future_py = client.submit(test_py)"
   ]
  },
  {
   "cell_type": "code",
   "execution_count": 7,
   "id": "9779195e-f87f-4b38-a7a8-cececa282750",
   "metadata": {
    "tags": []
   },
   "outputs": [
    {
     "data": {
      "text/plain": [
       "{}"
      ]
     },
     "execution_count": 7,
     "metadata": {},
     "output_type": "execute_result"
    }
   ],
   "source": [
    "client.get_worker_logs()"
   ]
  },
  {
   "cell_type": "code",
   "execution_count": null,
   "id": "11154a32-a7f7-4584-bdfe-e2c6a915e060",
   "metadata": {},
   "outputs": [],
   "source": []
  }
 ],
 "metadata": {
  "kernelspec": {
   "display_name": "Python 3 (ipykernel)",
   "language": "python",
   "name": "python3"
  },
  "language_info": {
   "codemirror_mode": {
    "name": "ipython",
    "version": 3
   },
   "file_extension": ".py",
   "mimetype": "text/x-python",
   "name": "python",
   "nbconvert_exporter": "python",
   "pygments_lexer": "ipython3",
   "version": "3.11.4"
  }
 },
 "nbformat": 4,
 "nbformat_minor": 5
}
