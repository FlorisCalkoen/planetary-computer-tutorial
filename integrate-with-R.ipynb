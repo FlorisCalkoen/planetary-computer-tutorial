{
 "cells": [
  {
   "cell_type": "markdown",
   "id": "ad9108ec-3c62-41db-9f5b-9f94513e9375",
   "metadata": {},
   "source": [
    "# Cluster + client\n",
    "Here we get access tot the cluster and connect a client. Click on manual scale 2. "
   ]
  },
  {
   "cell_type": "code",
   "execution_count": 1,
   "id": "7279d7b7-2f6d-4365-923b-13ce0cf0fe05",
   "metadata": {
    "execution": {
     "iopub.execute_input": "2024-03-01T16:47:03.487664Z",
     "iopub.status.busy": "2024-03-01T16:47:03.487519Z",
     "iopub.status.idle": "2024-03-01T16:47:03.947613Z",
     "shell.execute_reply": "2024-03-01T16:47:03.947020Z",
     "shell.execute_reply.started": "2024-03-01T16:47:03.487654Z"
    }
   },
   "outputs": [
    {
     "ename": "ValueError",
     "evalue": "No dask-gateway address provided or found in configuration",
     "output_type": "error",
     "traceback": [
      "\u001b[0;31m---------------------------------------------------------------------------\u001b[0m",
      "\u001b[0;31mValueError\u001b[0m                                Traceback (most recent call last)",
      "Cell \u001b[0;32mIn[1], line 3\u001b[0m\n\u001b[1;32m      1\u001b[0m \u001b[38;5;28;01mimport\u001b[39;00m \u001b[38;5;21;01mdask_gateway\u001b[39;00m\n\u001b[0;32m----> 3\u001b[0m cluster \u001b[38;5;241m=\u001b[39m \u001b[43mdask_gateway\u001b[49m\u001b[38;5;241;43m.\u001b[39;49m\u001b[43mGatewayCluster\u001b[49m\u001b[43m(\u001b[49m\u001b[43m)\u001b[49m\n\u001b[1;32m      4\u001b[0m client \u001b[38;5;241m=\u001b[39m cluster\u001b[38;5;241m.\u001b[39mget_client()\n\u001b[1;32m      5\u001b[0m cluster\n",
      "File \u001b[0;32m~/mambaforge/envs/jl-full/lib/python3.11/site-packages/dask_gateway/client.py:816\u001b[0m, in \u001b[0;36mGatewayCluster.__init__\u001b[0;34m(self, address, proxy_address, public_address, auth, cluster_options, shutdown_on_close, asynchronous, loop, **kwargs)\u001b[0m\n\u001b[1;32m    804\u001b[0m \u001b[38;5;28;01mdef\u001b[39;00m \u001b[38;5;21m__init__\u001b[39m(\n\u001b[1;32m    805\u001b[0m     \u001b[38;5;28mself\u001b[39m,\n\u001b[1;32m    806\u001b[0m     address\u001b[38;5;241m=\u001b[39m\u001b[38;5;28;01mNone\u001b[39;00m,\n\u001b[0;32m   (...)\u001b[0m\n\u001b[1;32m    814\u001b[0m     \u001b[38;5;241m*\u001b[39m\u001b[38;5;241m*\u001b[39mkwargs,\n\u001b[1;32m    815\u001b[0m ):\n\u001b[0;32m--> 816\u001b[0m     \u001b[38;5;28;43mself\u001b[39;49m\u001b[38;5;241;43m.\u001b[39;49m\u001b[43m_init_internal\u001b[49m\u001b[43m(\u001b[49m\n\u001b[1;32m    817\u001b[0m \u001b[43m        \u001b[49m\u001b[43maddress\u001b[49m\u001b[38;5;241;43m=\u001b[39;49m\u001b[43maddress\u001b[49m\u001b[43m,\u001b[49m\n\u001b[1;32m    818\u001b[0m \u001b[43m        \u001b[49m\u001b[43mproxy_address\u001b[49m\u001b[38;5;241;43m=\u001b[39;49m\u001b[43mproxy_address\u001b[49m\u001b[43m,\u001b[49m\n\u001b[1;32m    819\u001b[0m \u001b[43m        \u001b[49m\u001b[43mpublic_address\u001b[49m\u001b[38;5;241;43m=\u001b[39;49m\u001b[43mpublic_address\u001b[49m\u001b[43m,\u001b[49m\n\u001b[1;32m    820\u001b[0m \u001b[43m        \u001b[49m\u001b[43mauth\u001b[49m\u001b[38;5;241;43m=\u001b[39;49m\u001b[43mauth\u001b[49m\u001b[43m,\u001b[49m\n\u001b[1;32m    821\u001b[0m \u001b[43m        \u001b[49m\u001b[43mcluster_options\u001b[49m\u001b[38;5;241;43m=\u001b[39;49m\u001b[43mcluster_options\u001b[49m\u001b[43m,\u001b[49m\n\u001b[1;32m    822\u001b[0m \u001b[43m        \u001b[49m\u001b[43mcluster_kwargs\u001b[49m\u001b[38;5;241;43m=\u001b[39;49m\u001b[43mkwargs\u001b[49m\u001b[43m,\u001b[49m\n\u001b[1;32m    823\u001b[0m \u001b[43m        \u001b[49m\u001b[43mshutdown_on_close\u001b[49m\u001b[38;5;241;43m=\u001b[39;49m\u001b[43mshutdown_on_close\u001b[49m\u001b[43m,\u001b[49m\n\u001b[1;32m    824\u001b[0m \u001b[43m        \u001b[49m\u001b[43masynchronous\u001b[49m\u001b[38;5;241;43m=\u001b[39;49m\u001b[43masynchronous\u001b[49m\u001b[43m,\u001b[49m\n\u001b[1;32m    825\u001b[0m \u001b[43m        \u001b[49m\u001b[43mloop\u001b[49m\u001b[38;5;241;43m=\u001b[39;49m\u001b[43mloop\u001b[49m\u001b[43m,\u001b[49m\n\u001b[1;32m    826\u001b[0m \u001b[43m    \u001b[49m\u001b[43m)\u001b[49m\n",
      "File \u001b[0;32m~/mambaforge/envs/jl-full/lib/python3.11/site-packages/dask_gateway/client.py:889\u001b[0m, in \u001b[0;36mGatewayCluster._init_internal\u001b[0;34m(self, address, proxy_address, public_address, auth, cluster_options, cluster_kwargs, shutdown_on_close, asynchronous, loop, name)\u001b[0m\n\u001b[1;32m    885\u001b[0m \u001b[38;5;28mself\u001b[39m\u001b[38;5;241m.\u001b[39mshutdown_on_close \u001b[38;5;241m=\u001b[39m shutdown_on_close\n\u001b[1;32m    887\u001b[0m \u001b[38;5;28mself\u001b[39m\u001b[38;5;241m.\u001b[39m_instances\u001b[38;5;241m.\u001b[39madd(\u001b[38;5;28mself\u001b[39m)\n\u001b[0;32m--> 889\u001b[0m \u001b[38;5;28mself\u001b[39m\u001b[38;5;241m.\u001b[39mgateway \u001b[38;5;241m=\u001b[39m \u001b[43mGateway\u001b[49m\u001b[43m(\u001b[49m\n\u001b[1;32m    890\u001b[0m \u001b[43m    \u001b[49m\u001b[43maddress\u001b[49m\u001b[38;5;241;43m=\u001b[39;49m\u001b[43maddress\u001b[49m\u001b[43m,\u001b[49m\n\u001b[1;32m    891\u001b[0m \u001b[43m    \u001b[49m\u001b[43mproxy_address\u001b[49m\u001b[38;5;241;43m=\u001b[39;49m\u001b[43mproxy_address\u001b[49m\u001b[43m,\u001b[49m\n\u001b[1;32m    892\u001b[0m \u001b[43m    \u001b[49m\u001b[43mpublic_address\u001b[49m\u001b[38;5;241;43m=\u001b[39;49m\u001b[43mpublic_address\u001b[49m\u001b[43m,\u001b[49m\n\u001b[1;32m    893\u001b[0m \u001b[43m    \u001b[49m\u001b[43mauth\u001b[49m\u001b[38;5;241;43m=\u001b[39;49m\u001b[43mauth\u001b[49m\u001b[43m,\u001b[49m\n\u001b[1;32m    894\u001b[0m \u001b[43m    \u001b[49m\u001b[43masynchronous\u001b[49m\u001b[38;5;241;43m=\u001b[39;49m\u001b[43masynchronous\u001b[49m\u001b[43m,\u001b[49m\n\u001b[1;32m    895\u001b[0m \u001b[43m    \u001b[49m\u001b[43mloop\u001b[49m\u001b[38;5;241;43m=\u001b[39;49m\u001b[43mloop\u001b[49m\u001b[43m,\u001b[49m\n\u001b[1;32m    896\u001b[0m \u001b[43m\u001b[49m\u001b[43m)\u001b[49m\n\u001b[1;32m    898\u001b[0m \u001b[38;5;66;03m# Internals\u001b[39;00m\n\u001b[1;32m    899\u001b[0m \u001b[38;5;28mself\u001b[39m\u001b[38;5;241m.\u001b[39mscheduler_info \u001b[38;5;241m=\u001b[39m {}\n",
      "File \u001b[0;32m~/mambaforge/envs/jl-full/lib/python3.11/site-packages/dask_gateway/client.py:282\u001b[0m, in \u001b[0;36mGateway.__init__\u001b[0;34m(self, address, proxy_address, public_address, auth, asynchronous, loop)\u001b[0m\n\u001b[1;32m    280\u001b[0m     address \u001b[38;5;241m=\u001b[39m format_template(dask\u001b[38;5;241m.\u001b[39mconfig\u001b[38;5;241m.\u001b[39mget(\u001b[38;5;124m\"\u001b[39m\u001b[38;5;124mgateway.address\u001b[39m\u001b[38;5;124m\"\u001b[39m))\n\u001b[1;32m    281\u001b[0m \u001b[38;5;28;01mif\u001b[39;00m address \u001b[38;5;129;01mis\u001b[39;00m \u001b[38;5;28;01mNone\u001b[39;00m:\n\u001b[0;32m--> 282\u001b[0m     \u001b[38;5;28;01mraise\u001b[39;00m \u001b[38;5;167;01mValueError\u001b[39;00m(\n\u001b[1;32m    283\u001b[0m         \u001b[38;5;124m\"\u001b[39m\u001b[38;5;124mNo dask-gateway address provided or found in configuration\u001b[39m\u001b[38;5;124m\"\u001b[39m\n\u001b[1;32m    284\u001b[0m     )\n\u001b[1;32m    285\u001b[0m address \u001b[38;5;241m=\u001b[39m address\u001b[38;5;241m.\u001b[39mrstrip(\u001b[38;5;124m\"\u001b[39m\u001b[38;5;124m/\u001b[39m\u001b[38;5;124m\"\u001b[39m)\n\u001b[1;32m    287\u001b[0m \u001b[38;5;28;01mif\u001b[39;00m public_address \u001b[38;5;129;01mis\u001b[39;00m \u001b[38;5;28;01mNone\u001b[39;00m:\n",
      "\u001b[0;31mValueError\u001b[0m: No dask-gateway address provided or found in configuration"
     ]
    }
   ],
   "source": [
    "import dask_gateway\n",
    "\n",
    "cluster = dask_gateway.GatewayCluster()\n",
    "client = cluster.get_client()\n",
    "cluster"
   ]
  },
  {
   "cell_type": "markdown",
   "id": "006e949d-94a0-443a-9405-a8d23b4d03b7",
   "metadata": {},
   "source": [
    "# Install dependencies in workers\n",
    "Install the r environment in workers and add two dependencies (python-r, r-python)."
   ]
  },
  {
   "cell_type": "code",
   "execution_count": 2,
   "id": "abb19181-07a9-4780-b13f-50afb56683fc",
   "metadata": {
    "tags": []
   },
   "outputs": [],
   "source": [
    "# conda is a bit slow, so we'll use mamba to install by hand\n",
    "from dask.distributed import CondaInstall\n",
    "\n",
    "plugin = CondaInstall(packages=[\"r-base\", \"rpy2\", \"r-reticulate\"])\n",
    "\n",
    "# this is a bit slow\n",
    "# client.register_worker_plugin(plugin)"
   ]
  },
  {
   "cell_type": "code",
   "execution_count": 1,
   "id": "b2f54b72-09c9-4cd1-ae74-9a5be0828c69",
   "metadata": {
    "execution": {
     "iopub.execute_input": "2024-03-18T11:20:05.314441Z",
     "iopub.status.busy": "2024-03-18T11:20:05.314301Z",
     "iopub.status.idle": "2024-03-18T11:20:05.433610Z",
     "shell.execute_reply": "2024-03-18T11:20:05.432959Z",
     "shell.execute_reply.started": "2024-03-18T11:20:05.314430Z"
    },
    "tags": []
   },
   "outputs": [
    {
     "ename": "NameError",
     "evalue": "name 'client' is not defined",
     "output_type": "error",
     "traceback": [
      "\u001b[0;31m---------------------------------------------------------------------------\u001b[0m",
      "\u001b[0;31mNameError\u001b[0m                                 Traceback (most recent call last)",
      "Cell \u001b[0;32mIn[1], line 13\u001b[0m\n\u001b[1;32m     11\u001b[0m use_worker_setup \u001b[38;5;241m=\u001b[39m \u001b[38;5;28;01mTrue\u001b[39;00m\n\u001b[1;32m     12\u001b[0m \u001b[38;5;28;01mif\u001b[39;00m use_worker_setup:\n\u001b[0;32m---> 13\u001b[0m     \u001b[43mclient\u001b[49m\u001b[38;5;241m.\u001b[39mregister_worker_callbacks(worker_setup)\n",
      "\u001b[0;31mNameError\u001b[0m: name 'client' is not defined"
     ]
    }
   ],
   "source": [
    "# install using a system command\n",
    "install_r_packages_cmd = \"mamba install -y r-base rpy2 r-reticulate\"\n",
    "\n",
    "def worker_setup(dask_worker):\n",
    "    # install R dependencies from github\n",
    "    import os\n",
    "\n",
    "    os.system(install_r_packages_cmd)\n",
    "\n",
    "\n",
    "use_worker_setup = True\n",
    "if use_worker_setup:\n",
    "    client.register_worker_callbacks(worker_setup)"
   ]
  },
  {
   "cell_type": "code",
   "execution_count": 28,
   "id": "2913c772-ed36-425e-aa8e-cf53176aaf4c",
   "metadata": {},
   "outputs": [],
   "source": [
    "def test_r():\n",
    "    import rpy2.robjects as robjects\n",
    "    from rpy2.robjects import conversion, default_converter\n",
    "\n",
    "    # get pi from R\n",
    "    with conversion.localconverter(default_converter):\n",
    "        pi = robjects.r[\"pi\"][0]\n",
    "    return float(pi)\n",
    "\n",
    "\n",
    "def test_py():\n",
    "    import numpy as np\n",
    "\n",
    "    # get pi from numpy\n",
    "    pi = np.pi\n",
    "    return pi"
   ]
  },
  {
   "cell_type": "code",
   "execution_count": null,
   "id": "55981078-6af9-4e30-981f-9d7b16997718",
   "metadata": {},
   "outputs": [],
   "source": [
    "os.system(install_r_packages_cmd)"
   ]
  },
  {
   "cell_type": "code",
   "execution_count": 29,
   "id": "5d9db0d1-41b0-4061-b289-96b9d71134dd",
   "metadata": {},
   "outputs": [
    {
     "data": {
      "text/plain": [
       "3.141592653589793"
      ]
     },
     "execution_count": 29,
     "metadata": {},
     "output_type": "execute_result"
    }
   ],
   "source": [
    "test_r()"
   ]
  },
  {
   "cell_type": "code",
   "execution_count": 30,
   "id": "e177c076-1bad-4437-844a-75bb47e30176",
   "metadata": {},
   "outputs": [],
   "source": [
    "future_r = client.submit(test_r)\n",
    "future_py = client.submit(test_py)"
   ]
  },
  {
   "cell_type": "code",
   "execution_count": 31,
   "id": "9779195e-f87f-4b38-a7a8-cececa282750",
   "metadata": {
    "tags": []
   },
   "outputs": [
    {
     "data": {
      "text/plain": [
       "{'tls://10.244.68.18:36165': (('INFO',\n",
       "   '2024-03-01 11:02:36,614 - distributed.worker - INFO - -------------------------------------------------'),\n",
       "  ('INFO',\n",
       "   '2024-03-01 11:02:36,614 - distributed.worker - INFO -         Registered to: tls://dask-78008f1751664eba90fd63cd19b37d56.prod:8786'),\n",
       "  ('INFO',\n",
       "   '2024-03-01 10:59:14,426 - distributed.worker - INFO - Starting Worker plugin _WorkerSetupPlugin-21cb6822-3208-481f-aac9-6fb4eca38ff8'),\n",
       "  ('INFO',\n",
       "   '2024-03-01 10:59:14,118 - distributed.worker - INFO - -------------------------------------------------'),\n",
       "  ('INFO',\n",
       "   '2024-03-01 10:59:14,118 - distributed.worker - INFO -       Local Directory: /tmp/dask-scratch-space/worker-2atzayf0'),\n",
       "  ('INFO',\n",
       "   '2024-03-01 10:59:14,118 - distributed.worker - INFO -                Memory:                   8.00 GiB'),\n",
       "  ('INFO',\n",
       "   '2024-03-01 10:59:14,118 - distributed.worker - INFO -               Threads:                          1'),\n",
       "  ('INFO',\n",
       "   '2024-03-01 10:59:14,118 - distributed.worker - INFO - -------------------------------------------------'),\n",
       "  ('INFO',\n",
       "   '2024-03-01 10:59:14,118 - distributed.worker - INFO - Waiting to connect to: tls://dask-78008f1751664eba90fd63cd19b37d56.prod:8786'),\n",
       "  ('INFO',\n",
       "   '2024-03-01 10:59:14,118 - distributed.worker - INFO -          dashboard at:          10.244.68.18:8787'),\n",
       "  ('INFO',\n",
       "   '2024-03-01 10:59:14,118 - distributed.worker - INFO -           Worker name: dask-worker-78008f1751664eba90fd63cd19b37d56-v4jk8'),\n",
       "  ('INFO',\n",
       "   '2024-03-01 10:59:14,118 - distributed.worker - INFO -          Listening to:   tls://10.244.68.18:36165'),\n",
       "  ('INFO',\n",
       "   '2024-03-01 10:59:14,117 - distributed.worker - INFO -       Start worker at:   tls://10.244.68.18:36165')),\n",
       " 'tls://10.244.72.38:37137': (('WARNING',\n",
       "   '2024-03-01 11:03:11,094 - distributed.worker - WARNING - Compute Failed\\nKey:       test_r-0a176987d9bce095db1d03843e089229\\nFunction:  test_r\\nargs:      ()\\nkwargs:    {}\\nException: \"NotImplementedError(\\'\\\\\\\\n    Conversion rules for `rpy2.robjects` appear to be missing. Those\\\\\\\\n    rules are in a Python contextvars.ContextVar. This could be caused\\\\\\\\n    by multithreading code not passing context to the thread.\\\\\\\\n    \\')\"\\n'),\n",
       "  ('INFO',\n",
       "   '2024-03-01 11:02:22,285 - distributed.worker - INFO - -------------------------------------------------'),\n",
       "  ('INFO',\n",
       "   '2024-03-01 11:02:22,285 - distributed.worker - INFO -         Registered to: tls://dask-78008f1751664eba90fd63cd19b37d56.prod:8786'),\n",
       "  ('INFO',\n",
       "   '2024-03-01 10:59:14,423 - distributed.worker - INFO - Starting Worker plugin _WorkerSetupPlugin-21cb6822-3208-481f-aac9-6fb4eca38ff8'),\n",
       "  ('INFO',\n",
       "   '2024-03-01 10:59:14,106 - distributed.worker - INFO - -------------------------------------------------'),\n",
       "  ('INFO',\n",
       "   '2024-03-01 10:59:14,106 - distributed.worker - INFO -       Local Directory: /tmp/dask-scratch-space/worker-_cas_ded'),\n",
       "  ('INFO',\n",
       "   '2024-03-01 10:59:14,106 - distributed.worker - INFO -                Memory:                   8.00 GiB'),\n",
       "  ('INFO',\n",
       "   '2024-03-01 10:59:14,106 - distributed.worker - INFO -               Threads:                          1'),\n",
       "  ('INFO',\n",
       "   '2024-03-01 10:59:14,106 - distributed.worker - INFO - -------------------------------------------------'),\n",
       "  ('INFO',\n",
       "   '2024-03-01 10:59:14,106 - distributed.worker - INFO - Waiting to connect to: tls://dask-78008f1751664eba90fd63cd19b37d56.prod:8786'),\n",
       "  ('INFO',\n",
       "   '2024-03-01 10:59:14,106 - distributed.worker - INFO -          dashboard at:          10.244.72.38:8787'),\n",
       "  ('INFO',\n",
       "   '2024-03-01 10:59:14,106 - distributed.worker - INFO -           Worker name: dask-worker-78008f1751664eba90fd63cd19b37d56-bltdw'),\n",
       "  ('INFO',\n",
       "   '2024-03-01 10:59:14,106 - distributed.worker - INFO -          Listening to:   tls://10.244.72.38:37137'),\n",
       "  ('INFO',\n",
       "   '2024-03-01 10:59:14,106 - distributed.worker - INFO -       Start worker at:   tls://10.244.72.38:37137')),\n",
       " 'tls://10.244.96.18:33553': (('WARNING',\n",
       "   '2024-03-01 11:02:32,445 - distributed.worker - WARNING - Compute Failed\\nKey:       test_py-88c445c543aefa8a7c79cbe8a55c22ab\\nFunction:  test_py\\nargs:      ()\\nkwargs:    {}\\nException: \"NotImplementedError(\\'\\\\\\\\n    Conversion rules for `rpy2.robjects` appear to be missing. Those\\\\\\\\n    rules are in a Python contextvars.ContextVar. This could be caused\\\\\\\\n    by multithreading code not passing context to the thread.\\\\\\\\n    \\')\"\\n'),\n",
       "  ('WARNING',\n",
       "   '2024-03-01 11:00:34,775 - distributed.worker - WARNING - Compute Failed\\nKey:       test_r-abcb84a8071b8be46679294e33435586\\nFunction:  test_r\\nargs:      ()\\nkwargs:    {}\\nException: \"NotImplementedError(\\'\\\\\\\\n    Conversion rules for `rpy2.robjects` appear to be missing. Those\\\\\\\\n    rules are in a Python contextvars.ContextVar. This could be caused\\\\\\\\n    by multithreading code not passing context to the thread.\\\\\\\\n    \\')\"\\n'),\n",
       "  ('INFO',\n",
       "   '2024-03-01 11:00:34,176 - distributed.worker - INFO - -------------------------------------------------'),\n",
       "  ('INFO',\n",
       "   '2024-03-01 11:00:34,176 - distributed.worker - INFO -         Registered to: tls://dask-78008f1751664eba90fd63cd19b37d56.prod:8786'),\n",
       "  ('INFO',\n",
       "   '2024-03-01 10:57:24,802 - distributed.worker - INFO - Starting Worker plugin _WorkerSetupPlugin-21cb6822-3208-481f-aac9-6fb4eca38ff8'),\n",
       "  ('INFO',\n",
       "   '2024-03-01 10:57:24,467 - distributed.worker - INFO - -------------------------------------------------'),\n",
       "  ('INFO',\n",
       "   '2024-03-01 10:57:24,467 - distributed.worker - INFO -       Local Directory: /tmp/dask-scratch-space/worker-w2qry9yi'),\n",
       "  ('INFO',\n",
       "   '2024-03-01 10:57:24,467 - distributed.worker - INFO -                Memory:                   8.00 GiB'),\n",
       "  ('INFO',\n",
       "   '2024-03-01 10:57:24,467 - distributed.worker - INFO -               Threads:                          1'),\n",
       "  ('INFO',\n",
       "   '2024-03-01 10:57:24,467 - distributed.worker - INFO - -------------------------------------------------'),\n",
       "  ('INFO',\n",
       "   '2024-03-01 10:57:24,467 - distributed.worker - INFO - Waiting to connect to: tls://dask-78008f1751664eba90fd63cd19b37d56.prod:8786'),\n",
       "  ('INFO',\n",
       "   '2024-03-01 10:57:24,466 - distributed.worker - INFO -          dashboard at:          10.244.96.18:8787'),\n",
       "  ('INFO',\n",
       "   '2024-03-01 10:57:24,466 - distributed.worker - INFO -           Worker name: dask-worker-78008f1751664eba90fd63cd19b37d56-9p24z'),\n",
       "  ('INFO',\n",
       "   '2024-03-01 10:57:24,466 - distributed.worker - INFO -          Listening to:   tls://10.244.96.18:33553'),\n",
       "  ('INFO',\n",
       "   '2024-03-01 10:57:24,466 - distributed.worker - INFO -       Start worker at:   tls://10.244.96.18:33553'))}"
      ]
     },
     "execution_count": 31,
     "metadata": {},
     "output_type": "execute_result"
    }
   ],
   "source": [
    "client.get_worker_logs()"
   ]
  },
  {
   "cell_type": "code",
   "execution_count": null,
   "id": "11154a32-a7f7-4584-bdfe-e2c6a915e060",
   "metadata": {},
   "outputs": [],
   "source": []
  }
 ],
 "metadata": {
  "kernelspec": {
   "display_name": "Python 3 (ipykernel)",
   "language": "python",
   "name": "python3"
  },
  "language_info": {
   "codemirror_mode": {
    "name": "ipython",
    "version": 3
   },
   "file_extension": ".py",
   "mimetype": "text/x-python",
   "name": "python",
   "nbconvert_exporter": "python",
   "pygments_lexer": "ipython3",
   "version": "3.11.6"
  }
 },
 "nbformat": 4,
 "nbformat_minor": 5
}
